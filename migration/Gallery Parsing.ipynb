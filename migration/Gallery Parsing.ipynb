{
 "cells": [
  {
   "cell_type": "code",
   "execution_count": 15,
   "metadata": {},
   "outputs": [],
   "source": [
    "import requests\n",
    "from bs4 import BeautifulSoup\n",
    "import html2text\n",
    "from pathlib import Path"
   ]
  },
  {
   "cell_type": "code",
   "execution_count": 3,
   "metadata": {},
   "outputs": [
    {
     "data": {
      "text/plain": [
       "['https://sternwarte-kreuznach.de/galerie?s=0',\n",
       " 'https://sternwarte-kreuznach.de/galerie?s=12',\n",
       " 'https://sternwarte-kreuznach.de/galerie?s=24',\n",
       " 'https://sternwarte-kreuznach.de/galerie?s=36',\n",
       " 'https://sternwarte-kreuznach.de/galerie?s=48',\n",
       " 'https://sternwarte-kreuznach.de/galerie?s=60',\n",
       " 'https://sternwarte-kreuznach.de/galerie?s=72',\n",
       " 'https://sternwarte-kreuznach.de/galerie?s=84']"
      ]
     },
     "execution_count": 3,
     "metadata": {},
     "output_type": "execute_result"
    }
   ],
   "source": [
    "\n",
    "links"
   ]
  },
  {
   "cell_type": "code",
   "execution_count": 4,
   "metadata": {},
   "outputs": [
    {
     "data": {
      "text/plain": [
       "'Autor| Bernd Orth  \\n---|---  \\nKamera| Nikon D750  \\nAnzahl der Einzelbilder| 6  \\nTeleskop| Williams Optics WO Star 71 II APO Refractor  \\nNachbearbeitung| Deep Sky Stacker, Fitswork, Lightroom CC  \\nISO| 500  \\nBlende| f/4,9  \\nBelichtung| 710 sec.  \\nAufnahmeort| Hungriger Wolf, Bad Kreuznach - Winzenheim  \\nAufnahmedatum| 23\\\\. Juli 2020, 00:42 Uhr  \\nDaten zum Objekt| Komet Neowise (C/2020 F3) ist einer der wenigen mit blosem Auge sichtbaren Kometen, daher auch was ganz besonderes.  \\nSeine Umlaufzeit beträgt 6.766 Jahre.   \\nEr hat selbst nur einen Durchmesser von rund fünf Kilometern, doch in Sonnennähe zieht er einen Schweif aus Gas und Staub hinter sich her, der ohne Fernglas von der Erde aus zu erkennen ist.  \\nKategorie| Kometen\\n'"
      ]
     },
     "execution_count": 4,
     "metadata": {},
     "output_type": "execute_result"
    }
   ],
   "source": [
    "links = [\"https://sternwarte-kreuznach.de/galerie?s={}\".format(i*12) for i in range(8)]\n",
    "for link in links:\n",
    "    r = requests.get(link)\n",
    "    soup = BeautifulSoup(r.content, \"html.parser\")\n",
    "    row = soup.find_all(\"div\", {\"class\": \"row\"})[0]\n",
    "    \n",
    "    image_name = row.find_all(\"a\")[1].attrs[\"href\"].split(\"/\")[-2:]\n",
    "    ends = image_name[0] + \"/\" + image_name[-1]\n",
    "    if file_name.ends(ends):\n",
    "        soup2 = BeautifulSoup(row.find_all(\"a\")[1].attrs['data-caption'])\n",
    "        entry = html2text.html2text(soup2.decode(), bodywidth=0)\n",
    "        break\n",
    "    else:\n",
    "        raise ValueError(\"LOL nix da\")"
   ]
  },
  {
   "cell_type": "code",
   "execution_count": 27,
   "metadata": {},
   "outputs": [
    {
     "data": {
      "text/plain": [
       "'astropics/C2020-F3_7.jpg'"
      ]
     },
     "execution_count": 27,
     "metadata": {},
     "output_type": "execute_result"
    }
   ],
   "source": []
  },
  {
   "cell_type": "code",
   "execution_count": null,
   "metadata": {},
   "outputs": [],
   "source": []
  }
 ],
 "metadata": {
  "kernelspec": {
   "display_name": "Python 3",
   "language": "python",
   "name": "python3"
  },
  "language_info": {
   "codemirror_mode": {
    "name": "ipython",
    "version": 3
   },
   "file_extension": ".py",
   "mimetype": "text/x-python",
   "name": "python",
   "nbconvert_exporter": "python",
   "pygments_lexer": "ipython3",
   "version": "3.9.2"
  }
 },
 "nbformat": 4,
 "nbformat_minor": 4
}
