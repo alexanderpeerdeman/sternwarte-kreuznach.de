{
 "cells": [
  {
   "cell_type": "code",
   "execution_count": 1,
   "id": "advised-saskatchewan",
   "metadata": {},
   "outputs": [],
   "source": [
    "import json\n",
    "import galerie\n",
    "from pathlib import Path\n",
    "from slugify import slugify\n",
    "import shutil\n",
    "import requests"
   ]
  },
  {
   "cell_type": "code",
   "execution_count": 16,
   "id": "moderate-instrumentation",
   "metadata": {
    "tags": []
   },
   "outputs": [],
   "source": [
    "with open(\"db1033256-1.json\", \"r\") as f:\n",
    "    data = json.load(f)"
   ]
  },
  {
   "cell_type": "code",
   "execution_count": 17,
   "id": "operating-rubber",
   "metadata": {},
   "outputs": [
    {
     "name": "stdout",
     "output_type": "stream",
     "text": [
      "Astropic\n"
     ]
    }
   ],
   "source": [
    "for index, item in enumerate(data[2:]):\n",
    "    #print(index + 2, item[\"name\"])\n",
    "    pass\n",
    "    \n",
    "print(data[5][\"name\"])\n",
    "\n",
    "astropics = data[5]"
   ]
  },
  {
   "cell_type": "code",
   "execution_count": 10,
   "id": "catholic-break",
   "metadata": {},
   "outputs": [
    {
     "name": "stdout",
     "output_type": "stream",
     "text": [
      "2016-03-03 00:00:00\n",
      "2016-03-11 None\n",
      "2016-05-15 None\n",
      "2016-03-13 None\n",
      "2016-05-26 None\n",
      "2016-05-12 None\n",
      "2016-05-09 None\n",
      "2016-05-12 None\n",
      "2016-05-09 None\n",
      "2016-02-27 None\n",
      "2016-02-27 None\n",
      "2016-03-31 None\n",
      "2016-02-12 00:00:00\n",
      "2016-04-28 None\n",
      "2016-03-13 None\n",
      "2016-04-18 None\n",
      "2016-05-15 None\n",
      "2016-05-08 None\n",
      "2016-05-15 None\n",
      "2016-05-15 None\n",
      "2015-09-28 None\n",
      "2014-02-24 20:02:00\n",
      "2014-02-20 20:25:00\n",
      "2014-04-13 10:21:00\n",
      "2014-04-13 10:26:00\n",
      "2015-01-17 20:33:00\n",
      "2015-01-18 20:00:00\n",
      "2015-01-17 20:17:00\n",
      "2016-03-26 20:00:00\n",
      "2016-06-06 None\n",
      "2016-06-06 None\n",
      "2016-06-06 None\n",
      "2016-06-06 None\n",
      "2016-06-18 None\n",
      "2016-06-15 None\n",
      "2016-06-15 None\n",
      "2016-07-09 None\n",
      "2016-07-09 None\n",
      "2016-06-25 None\n",
      "2016-07-10 None\n",
      "2016-07-30 None\n",
      "2016-07-30 None\n",
      "2016-07-31 None\n",
      "2016-07-29 None\n",
      "2016-07-31 None\n",
      "2016-07-28 None\n",
      "2016-07-28 None\n",
      "2016-08-01 None\n",
      "2016-07-31 None\n",
      "2016-08-01 None\n",
      "2016-08-25 None\n",
      "2016-08-25 None\n",
      "2016-08-25 None\n",
      "2016-10-01 None\n",
      "2016-11-01 None\n",
      "2016-11-01 None\n",
      "2016-11-01 None\n",
      "2016-11-29 None\n",
      "2016-12-04 None\n",
      "2016-12-04 23:45:00\n",
      "2016-10-02 22:02:00\n",
      "2016-10-01 None\n",
      "2016-10-02 18:14:00\n",
      "2016-10-04 20:53:00\n",
      "2016-10-02 21:47:00\n",
      "2017-03-16 19:54:00\n",
      "2017-04-15 00:00:00\n",
      "2018-10-06 04:39:00\n",
      "2018-10-14 22:09:00\n",
      "2018-11-05 20:25:00\n",
      "2018-10-11 22:17:00\n",
      "2019-01-03 00:00:00\n",
      "2018-07-16 00:00:00\n",
      "2018-01-17 00:00:00\n",
      "2018-04-16 00:00:00\n",
      "2018-06-16 00:00:00\n",
      "2018-09-07 00:00:00\n",
      "2018-08-06 00:00:00\n",
      "2019-01-10 00:00:00\n",
      "2019-01-21 06:22:00\n",
      "2019-02-27 20:20:00\n",
      "2019-04-17 15:35:00\n",
      "2019-06-02 23:00:00\n",
      "2019-06-01 23:00:00\n",
      "2019-08-30 23:00:00\n",
      "2019-08-09 00:00:00\n",
      "2019-09-21 23:00:00\n",
      "2019-10-22 23:30:00\n",
      "2019-11-29 23:00:00\n",
      "2019-12-04 23:00:00\n",
      "2020-01-16 20:00:00\n",
      "2020-07-23 00:42:00\n"
     ]
    }
   ],
   "source": [
    "names = []\n",
    "for astropic in astropics[\"data\"]:\n",
    "    friendly_name = slugify(astropic[\"Title\"], max_length=255, replacements=[\n",
    "        ['Ä', 'AE'], ['ä', 'ae'],\n",
    "        ['Ö', 'OE'], ['ö', 'oe'],\n",
    "        ['Ü', 'UE'], ['ü', 'ue'],\n",
    "        ['ß', 'ss'],\n",
    "    ])\n",
    "    names.append(friendly_name)\n",
    "    \n",
    "    print(astropic[\"AufnahmeDatum\"], astropic[\"AufnahmeZeit\"])\n",
    "    "
   ]
  },
  {
   "cell_type": "code",
   "execution_count": 11,
   "id": "scheduled-intersection",
   "metadata": {},
   "outputs": [],
   "source": [
    "def get_download_link(data, astropic):\n",
    "    results = galerie.find_image(data, astropic[\"data\"])\n",
    "    assert len(results) == 1\n",
    "    image_object = results[0]\n",
    "    image_file_location = \"http://sternwarte-kreuznach.de/\" + image_object[\"Filename\"]\n",
    "    print(image_file_location)\n",
    "    return image_file_location"
   ]
  },
  {
   "cell_type": "code",
   "execution_count": 12,
   "id": "suburban-prairie",
   "metadata": {},
   "outputs": [],
   "source": [
    "def download_file(file_location, file_destination):\n",
    "    if not Path(file_destination).is_file():\n",
    "        r = requests.get(file_location, stream=True)\n",
    "\n",
    "        if r.status_code == 200:\n",
    "            # Set decode_content value to True, otherwise the downloaded image file's size will be zero.\n",
    "            r.raw.decode_content = True\n",
    "\n",
    "            # Open a local file with wb ( write binary ) permission.\n",
    "            with open(file_destination, 'wb') as f:\n",
    "                shutil.copyfileobj(r.raw, f)\n",
    "\n",
    "            downloaded_image = True\n",
    "\n",
    "        else:\n",
    "            print('Image could not be retreived!')    "
   ]
  },
  {
   "cell_type": "code",
   "execution_count": 14,
   "id": "noble-launch",
   "metadata": {},
   "outputs": [
    {
     "ename": "SyntaxError",
     "evalue": "invalid syntax (<ipython-input-14-3b5e0bfc52f2>, line 3)",
     "output_type": "error",
     "traceback": [
      "\u001b[0;36m  File \u001b[0;32m\"<ipython-input-14-3b5e0bfc52f2>\"\u001b[0;36m, line \u001b[0;32m3\u001b[0m\n\u001b[0;31m    file_name =\u001b[0m\n\u001b[0m                ^\u001b[0m\n\u001b[0;31mSyntaxError\u001b[0m\u001b[0;31m:\u001b[0m invalid syntax\n"
     ]
    }
   ],
   "source": [
    "folder = Path(year, friendly_name)\n",
    "    \n",
    "file_name = \n",
    "\n",
    "file_name = file_name + \".\" + file_extension\n",
    "target_file = folder.joinpath(file_name) \n",
    "\n",
    "image_file_location = get_download_link(data, astropic)\n",
    "download_file(image_file_location, target_file)"
   ]
  },
  {
   "cell_type": "code",
   "execution_count": null,
   "id": "directed-costs",
   "metadata": {},
   "outputs": [],
   "source": []
  }
 ],
 "metadata": {
  "kernelspec": {
   "display_name": "Python 3",
   "language": "python",
   "name": "python3"
  },
  "language_info": {
   "codemirror_mode": {
    "name": "ipython",
    "version": 3
   },
   "file_extension": ".py",
   "mimetype": "text/x-python",
   "name": "python",
   "nbconvert_exporter": "python",
   "pygments_lexer": "ipython3",
   "version": "3.9.2"
  }
 },
 "nbformat": 4,
 "nbformat_minor": 5
}
